{
 "cells": [
  {
   "cell_type": "code",
   "execution_count": 1,
   "metadata": {},
   "outputs": [],
   "source": [
    "import matplotlib.pyplot as plt\n",
    "%matplotlib inline\n",
    "import numpy as np\n",
    "\n",
    "from qiskit import *\n",
    "from qiskit.providers.ibmq import least_busy\n",
    "from qiskit import QuantumCircuit, ClassicalRegister, QuantumRegister, execute\n",
    "from qiskit.quantum_info import Operator\n",
    "\n",
    "from qiskit.tools.visualization import plot_histogram\n",
    "from IPython.display import display, Math, Latex\n",
    "\n",
    "import pennylane as qml"
   ]
  },
  {
   "cell_type": "markdown",
   "metadata": {},
   "source": [
    "# Variational Quantum Eigensolver\n",
    "\n",
    "A well known problem from chemistry to computer science consists into finding the minimum eigenvalue of a matrix. In chemistry this problem can be characterized into finding the ground state of a system defined by a molecule. To estimate these values we can use a variational method called Variational Quantum Eigensolver (VQE).\n",
    "\n",
    "The VQE is an application of the Ritz Variational Method, where a Quantum Computer prepare a Ansatz trial state given by a wave function $\\Psi$, within boundary conditions and adjustable parameters the may be used to find the lowest energy of a quantum system (minimum eigenvalue), given by,\n",
    "\n",
    "$$\n",
    "    E_0 \\leq \\frac{\\langle\\psi|H|\\psi\\rangle}{\\langle\\psi|\\psi\\rangle}\n",
    "$$\n",
    "## Mathematical Basics\n",
    "\n",
    "Let $M$ be a symmetric matrix, we say that $v$ is a eigenvector and $\\lambda$ a eigenvalue of $M$ if the following equation holds\n",
    "\n",
    "$$\n",
    "  Av = \\lambda v\n",
    "$$\n",
    "\n",
    "Moreover, let $H$ be our hamiltonian hermitian $nxn$ matrix, and $|\\psi\\rangle$ one of its eigenvectors, then\n",
    "\n",
    "$$\n",
    "  H|\\psi\\rangle = \\lambda |\\psi\\rangle\n",
    "$$\n",
    "\n",
    "And by the spectral theorem, we may rewrite this matrix in function of its eigenvectors and eigenvalues such that\n",
    "\n",
    "$$\n",
    "    H = \\sum_{i = 0}^{n-1}\\lambda_i|\\psi_i\\rangle\\langle\\psi_i|\n",
    "$$\n",
    "\n",
    "Where the eigenvalue $\\lambda_i$ is associated with the eigenvector $|\\psi_i\\rangle$ and $|\\psi_i\\rangle\\langle\\psi_i|$ are projections onto its eigenspaces, and by the theorem as $H$ is hermitian, then for all $\\lambda_i$, $\\lambda_i = \\lambda_i^*$. Futhermore, from that we may extract that the expectation value of the observable $H$ on an arbitrary quantum state $|\\psi\\rangle$ is given by\n",
    "\n",
    "$$\n",
    "    \\langle H \\rangle_\\psi = \\langle\\psi|H|\\psi\\rangle\n",
    "$$\n",
    "\n",
    "Then, by rewriting the last equation by the spetral decomposition of $H$, we get that \n",
    "\n",
    "$$\n",
    "    \\begin{align*}\n",
    "    \\langle H \\rangle_\\psi &= \\langle\\psi|H|\\psi\\rangle\\\\\n",
    "                           &= \\langle\\psi|\\bigg(\\sum_{i = 0}^{n-1}\\lambda_i|\\psi_i\\rangle\\langle\\psi_i|\\bigg)|\\psi\\rangle\\\\\n",
    "                           &=\\sum_{i = 0}^{n-1}\\lambda_i\\langle\\psi||\\psi_i\\rangle\\langle\\psi_i||\\psi\\rangle\\\\\n",
    "                           &=\\sum_{i = 0}^{n-1}\\lambda_i|\\langle\\psi||\\psi_i\\rangle|^2\\\\\n",
    "    \\end{align*}\n",
    "$$\n",
    "\n",
    "From this last equation get that our observable on any state will be given by a linear combination of $|\\langle\\psi||\\psi_i\\rangle|^2 \\geq 0$ up to a scalar $\\lambda_i$. Moreover, we have that $\\lambda_0$ is bounded by our measured result\n",
    "\n",
    "$$\n",
    "    \\lambda_{0} \\leq \\langle H \\rangle_\\psi = \\langle\\psi|H|\\psi\\rangle = \\sum_{i = 0}^{n-1}\\lambda_i|\\langle\\psi||\\psi_i\\rangle|^2\n",
    "$$\n",
    "\n",
    "Furthermore if we take $|\\psi_0\\rangle$, which is the eigenvector associated with the lowest energy of our quantum system, as all of our eigenvectors are orthornormal with each other, then equality holds for our last equation and $\\lambda_{0} = \\langle H \\rangle_{\\psi_0}$.\n",
    "\n",
    "Now, we need to define our variational parameters, to approximate the required Ansatz trial states. So let $U(\\theta)$ be a unitary operator in function of a given angle $\\theta$, then applying this linear transformation onto a state $|\\psi\\rangle$ we get that\n",
    "\n",
    "$$\n",
    "    U(\\theta)|\\psi\\rangle = |\\psi(\\theta)\\rangle\n",
    "$$\n",
    "\n",
    "And our goal is to optimize our parameters in order to get an approximate solution to our minimum eigenvalue problem, so that \n",
    "\n",
    "$$\n",
    "\\langle H \\rangle_{\\psi(\\theta)} = \\langle\\psi(\\theta)|H|\\psi(\\theta)\\rangle \\geq E_0 = \\lambda_0\n",
    "$$\n",
    "\n",
    "## Pennylane Implementation\n",
    "\n",
    "We can implement a simple single qubit version of the VQE using the Pennylane library as follows"
   ]
  },
  {
   "cell_type": "code",
   "execution_count": 2,
   "metadata": {},
   "outputs": [],
   "source": [
    "#Define our backend and the number of qubits\n",
    "backend = qml.device(\"default.qubit\", wires=1)\n",
    "\n",
    "#Define the unitary variational circuit by applying RX(\\theta_0) and RY(\\theta_1)\n",
    "@qml.qnode(backend)\n",
    "def circuit(angles):\n",
    "    qml.RX(angles[0], wires = 0)\n",
    "    qml.RY(angles[1], wires = 0)\n",
    "    \n",
    "    return qml.expval(qml.PauliZ(0))"
   ]
  },
  {
   "cell_type": "code",
   "execution_count": 3,
   "metadata": {},
   "outputs": [],
   "source": [
    "#Set the parameters optimizer\n",
    "opt = qml.GradientDescentOptimizer(stepsize=0.6)\n",
    "\n",
    "#Define a cost function for our circuit\n",
    "def cost(param):\n",
    "    return circuit(param)"
   ]
  },
  {
   "cell_type": "code",
   "execution_count": 4,
   "metadata": {
    "scrolled": false
   },
   "outputs": [
    {
     "name": "stdout",
     "output_type": "stream",
     "text": [
      "Expectation Ground State Energy Value   0:  0.4587564\n",
      "Expectation Ground State Energy Value   1:  0.0269474\n",
      "Expectation Ground State Energy Value   2: -0.4222236\n",
      "Expectation Ground State Energy Value   3: -0.7694359\n",
      "Expectation Ground State Energy Value   4: -0.9428985\n",
      "Expectation Ground State Energy Value   5: -0.9897271\n",
      "Expectation Ground State Energy Value   6: -0.9983205\n",
      "Expectation Ground State Energy Value   7: -0.9997303\n",
      "Expectation Ground State Energy Value   8: -0.9999568\n",
      "Expectation Ground State Energy Value   9: -0.9999931\n",
      "Expectation Ground State Energy Value  10: -0.9999989\n",
      "Expectation Ground State Energy Value  11: -0.9999998\n",
      "Expectation Ground State Energy Value  12: -1.0000000\n",
      "Expectation Ground State Energy Value  13: -1.0000000\n",
      "Expectation Ground State Energy Value  14: -1.0000000\n",
      "Expectation Ground State Energy Value  15: -1.0000000\n",
      "Expectation Ground State Energy Value  16: -1.0000000\n",
      "Expectation Ground State Energy Value  17: -1.0000000\n",
      "Expectation Ground State Energy Value  18: -1.0000000\n",
      "Expectation Ground State Energy Value  19: -1.0000000\n",
      "Optimized Parameters: [3.14159233e+00 2.15502402e-07]\n"
     ]
    }
   ],
   "source": [
    "#Set appropriate initial parameters\n",
    "initi_params = np.array([0.687, 0.258])\n",
    "\n",
    "#Set the number of optimization layers to be applied\n",
    "layers = 20\n",
    "\n",
    "for i in range(layers):\n",
    "    initi_params = opt.step(cost, initi_params)\n",
    "    print(\"Expectation Ground State Energy Value {:3d}: {: .7f}\".format(i, cost(initi_params)))\n",
    "\n",
    "print(\"Optimized Parameters: {}\".format(initi_params))"
   ]
  },
  {
   "cell_type": "markdown",
   "metadata": {},
   "source": [
    "### References\n",
    "\n",
    "[[1]](https://pennylane.ai/qml/demos/tutorial_qubit_rotation.html) PennyLane Basic tutorial: qubit rotation\n",
    "\n",
    "[[2]](https://pennylane.ai/qml/demos/tutorial_vqe.html) PennyLane A brief overview of VQE\n",
    "\n",
    "[[3]](https://qiskit.org/textbook/ch-applications/vqe-molecules.html) Qiskit Simulating Molecules using VQE"
   ]
  }
 ],
 "metadata": {
  "kernelspec": {
   "display_name": "Python 3",
   "language": "python",
   "name": "python3"
  },
  "language_info": {
   "codemirror_mode": {
    "name": "ipython",
    "version": 3
   },
   "file_extension": ".py",
   "mimetype": "text/x-python",
   "name": "python",
   "nbconvert_exporter": "python",
   "pygments_lexer": "ipython3",
   "version": "3.8.5"
  }
 },
 "nbformat": 4,
 "nbformat_minor": 4
}