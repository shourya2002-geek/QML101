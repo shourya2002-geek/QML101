{
 "cells": [
  {
   "cell_type": "code",
   "execution_count": 1,
   "metadata": {},
   "outputs": [],
   "source": [
    "import numpy as np\n",
    "import pennylane as qml\n",
    "from pennylane.optimize import NesterovMomentumOptimizer"
   ]
  },
  {
   "cell_type": "code",
   "execution_count": 2,
   "metadata": {},
   "outputs": [],
   "source": [
    "n = 6"
   ]
  },
  {
   "cell_type": "code",
   "execution_count": 3,
   "metadata": {},
   "outputs": [],
   "source": [
    "backend = qml.device(\"default.qubit\", wires = n)"
   ]
  },
  {
   "cell_type": "code",
   "execution_count": 4,
   "metadata": {},
   "outputs": [],
   "source": [
    "def layerBlock(wgt):\n",
    "    for q_i in range(n):\n",
    "        qml.Rot(wgt[q_i, 0], wgt[q_i, 1], wgt[q_i, 2], wires = q_i)\n",
    "    \n",
    "    for q_i in range(n):\n",
    "        qml.CNOT(wires = [q_i, (q_i+1)%n])"
   ]
  },
  {
   "cell_type": "code",
   "execution_count": 5,
   "metadata": {},
   "outputs": [],
   "source": [
    "def preparation(x_n):\n",
    "    qb = [i for i in range(n)]\n",
    "    qml.BasisState(x_n, wires=qb)"
   ]
  },
  {
   "cell_type": "code",
   "execution_count": 6,
   "metadata": {},
   "outputs": [],
   "source": [
    "@qml.qnode(backend)\n",
    "def circuit(weights, x_n = None):\n",
    "    \n",
    "    preparation(x_n)\n",
    "    \n",
    "    for w in weights:\n",
    "        layerBlock(w)\n",
    "    \n",
    "    return qml.expval(qml.PauliZ(0))"
   ]
  },
  {
   "cell_type": "code",
   "execution_count": 7,
   "metadata": {},
   "outputs": [],
   "source": [
    "def variationalCircuit(param, x_n = None):\n",
    "    weights = param[0]\n",
    "    bias = param[1]\n",
    "    \n",
    "    return circuit(weights, x_n = x_n) + bias"
   ]
  },
  {
   "cell_type": "code",
   "execution_count": 8,
   "metadata": {},
   "outputs": [],
   "source": [
    "def squareLoss(target, predictions):\n",
    "    loss = 0\n",
    "    for l, p in zip(target, predictions):\n",
    "        loss += (l - p) ** 2\n",
    "    \n",
    "    loss /= len(target)\n",
    "    \n",
    "    return loss\n",
    "\n",
    "def accuracy(target, predictions):\n",
    "    loss = 0\n",
    "    for l, p in zip(target, predictions):\n",
    "        if abs(l - p) < 1e-5:\n",
    "            loss += 1\n",
    "    \n",
    "    loss /= len(target)\n",
    "    \n",
    "    return loss"
   ]
  },
  {
   "cell_type": "code",
   "execution_count": 9,
   "metadata": {},
   "outputs": [],
   "source": [
    "def cost(param, x_n, y_n):\n",
    "    predictions = [variationalCircuit(param, x_n = x) for x in x_n]\n",
    "    return squareLoss(y_n, predictions)"
   ]
  },
  {
   "cell_type": "code",
   "execution_count": 10,
   "metadata": {},
   "outputs": [],
   "source": [
    "data = np.loadtxt(\"data/dataset1.txt\")\n",
    "\n",
    "dataset = data[:, :n]\n",
    "target = data[:, n]\n",
    "\n",
    "#maps {0, 1} -> {-1, 1}\n",
    "target = target * 2 - np.ones(len(target))"
   ]
  },
  {
   "cell_type": "code",
   "execution_count": 11,
   "metadata": {},
   "outputs": [],
   "source": [
    "np.random.seed(0)\n",
    "blocks = 3\n",
    "m = 4\n",
    "\n",
    "initialParams = (0.01 * np.random.randn(blocks, n, m), 0.0)"
   ]
  },
  {
   "cell_type": "code",
   "execution_count": 12,
   "metadata": {},
   "outputs": [],
   "source": [
    "optimizer = NesterovMomentumOptimizer(0.5)\n",
    "batchSize = 5"
   ]
  },
  {
   "cell_type": "code",
   "execution_count": 13,
   "metadata": {},
   "outputs": [
    {
     "name": "stdout",
     "output_type": "stream",
     "text": [
      "Step:     1 | Cost: 1.8010182 | Accuracy: 0.5882353 \n",
      "Step:     2 | Cost: 3.0289655 | Accuracy: 0.5000000 \n",
      "Step:     3 | Cost: 1.4702072 | Accuracy: 0.5882353 \n",
      "Step:     4 | Cost: 1.1865104 | Accuracy: 0.5882353 \n",
      "Step:     5 | Cost: 1.6427542 | Accuracy: 0.5000000 \n",
      "Step:     6 | Cost: 1.0048568 | Accuracy: 0.5000000 \n",
      "Step:     7 | Cost: 1.3500693 | Accuracy: 0.5000000 \n",
      "Step:     8 | Cost: 1.2632958 | Accuracy: 0.5000000 \n",
      "Step:     9 | Cost: 0.9777113 | Accuracy: 0.5294118 \n",
      "Step:    10 | Cost: 1.0377031 | Accuracy: 0.5000000 \n",
      "Step:    11 | Cost: 1.0084767 | Accuracy: 0.5294118 \n",
      "Step:    12 | Cost: 1.0109812 | Accuracy: 0.5588235 \n",
      "Step:    13 | Cost: 0.5671435 | Accuracy: 0.9117647 \n",
      "Step:    14 | Cost: 0.2277128 | Accuracy: 1.0000000 \n",
      "Step:    15 | Cost: 0.2271634 | Accuracy: 1.0000000 \n"
     ]
    }
   ],
   "source": [
    "params = initialParams\n",
    "steps = 15\n",
    "\n",
    "for i in range(steps):\n",
    "    \n",
    "    batchIdx = np.random.randint(0, len(dataset), (batchSize,))\n",
    "    batchX = dataset[batchIdx]\n",
    "    batchY = target[batchIdx]\n",
    "    \n",
    "    params = optimizer.step(lambda f  :cost(f, batchX, batchY), params)\n",
    "    \n",
    "    predictions = [np.sign(variationalCircuit(params, x)) for x in dataset]\n",
    "    acc = accuracy(target, predictions)\n",
    "    \n",
    "    print(\n",
    "        \"Step: {:5d} | Cost: {:0.7f} | Accuracy: {:0.7f} \".format(\n",
    "            i + 1, cost(params, dataset, target), acc\n",
    "        )\n",
    "    )"
   ]
  }
 ],
 "metadata": {
  "kernelspec": {
   "display_name": "Python 3",
   "language": "python",
   "name": "python3"
  },
  "language_info": {
   "codemirror_mode": {
    "name": "ipython",
    "version": 3
   },
   "file_extension": ".py",
   "mimetype": "text/x-python",
   "name": "python",
   "nbconvert_exporter": "python",
   "pygments_lexer": "ipython3",
   "version": "3.8.5"
  }
 },
 "nbformat": 4,
 "nbformat_minor": 4
}