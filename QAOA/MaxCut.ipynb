{
 "cells": [
  {
   "cell_type": "code",
   "execution_count": 1,
   "metadata": {},
   "outputs": [],
   "source": [
    "import matplotlib.pyplot as plt\n",
    "%matplotlib inline\n",
    "import numpy as np\n",
    "\n",
    "from qiskit import *\n",
    "from qiskit.providers.ibmq import least_busy\n",
    "from qiskit import QuantumCircuit, ClassicalRegister, QuantumRegister, execute\n",
    "from qiskit.quantum_info import Operator\n",
    "\n",
    "from qiskit.tools.visualization import plot_histogram\n",
    "from IPython.display import display, Math, Latex\n",
    "\n",
    "import pennylane as qml"
   ]
  },
  {
   "cell_type": "markdown",
   "metadata": {},
   "source": [
    "# QAOA for MaxCut"
   ]
  },
  {
   "cell_type": "markdown",
   "metadata": {},
   "source": [
    "In this notebook we will discuss a Quantum Approximate Optimization Algorithm *(QAOA)* for the MaxCut problem, which is combinatorial problem that cannot be computed in polynomial time, unless **P = NP**."
   ]
  },
  {
   "cell_type": "markdown",
   "metadata": {},
   "source": [
    "So let G be a graph on $n$ vertices. Given $\\emptyset \\neq S \\subset V(G)$ we define the cut $\\delta(S)$ as the set of edges connecting $S$ to its complement $\\bar S$, and $\\mu(G)$ denotes the size of the optimal cut for the given graph. Moreover, our focus here is to determine a cut that maximizes the number of cut edges, i.e, find the largest value for $|E(S, \\bar S)|$, given that\n",
    "\n",
    "$$\n",
    "\\begin{align*}\n",
    "    |E(S, \\bar S)| = \\{(u, v)\\text{ }|\\text{ }u \\in S, v \\in \\bar S\\}\n",
    "\\end{align*}\n",
    "$$\n",
    "\n",
    "\n",
    "Now, let $S \\subseteq V(G)$, then $x_s$ denotes the $\\mathbb{Z}_2^n$-characteristic vector of $S \\in \\mathbb{R}^{|V(G)|}$ and $x_{\\delta(S)}$ the $\\mathbb{Z}_2^n$-characteristic vector of $\\delta(S) \\in \\mathbb{R}^{E(G)}$. Then, we can write our problem as linear program given by\n",
    "\n",
    "$$\n",
    "\\begin{align*}\n",
    "\\text{max} &\\quad \\frac{1}{2}\\sum_{ij\\text{ }\\in\\text{ }E(G)} w_{ij}(1 - x_i x_j)\\\\\n",
    "\\text{subject to} &\\quad x_i \\in \\{-1, 1\\}\n",
    "\\end{align*}\n",
    "$$\n",
    "\n",
    "\n",
    "Which is a very natural formulation for our Maxcut, where we also assume that the edges of the graph can be weighted."
   ]
  },
  {
   "cell_type": "markdown",
   "metadata": {},
   "source": [
    "## A Quantum Approximation Approach \n",
    "\n",
    "In order to quantumly encode our objective function, we will define a *Cost Hamiltonian* such that\n",
    "\n",
    "$$\n",
    "\\begin{align*}\n",
    "H_c|x\\rangle = C(x)|x\\rangle\n",
    "\\end{align*}\n",
    "$$\n",
    "\n",
    "Where $|x\\rangle$ is a computational basis vector, which can be seen as an eigenvalue problem, defined as $T(v) = \\lambda v$, where the edge $C_{ij}$ has eigenvalue 1 if and only if the $i$th and $j$th qubits have different measurements results, which represents separete partitions of our sets $S$ and $\\bar S$.\n",
    "\n",
    "And it can be written as a diagonal hamiltonian in the computational basis,\n",
    "\n",
    "$$\n",
    "\\begin{align*}\n",
    "H_c = \\sum_{x \\in\\{0, 1\\}^n} C(x)|x\\rangle\\langle x|\n",
    "\\end{align*}\n",
    "$$\n",
    "\n",
    "We can rewrite it expanding into Pauli-$Z$ operators, by substituting for each vector $x_i \\in \\{0, 1\\}^n$ the matrix $x_i \\rightarrow \\frac{1}{2}(1 - \\sigma^z_i)$, where $Z_i$ is the $Z$ operator that acts on qubit $i$. And with this assigment, we have the final equation that defines our hamiltonian in terms of the edges of the graph.\n",
    "\n",
    "$$\n",
    "\\begin{align*}\n",
    "H_c = \\frac{1}{2}\\sum_{(i, j) \\in E(G)} (1 - \\sigma_z^i\\sigma_z^j)\n",
    "\\end{align*}\n",
    "$$\n",
    "\n",
    "And finally we are able to define our unitary operator that will be used in our QAOA circuit,\n",
    "\n",
    "$$\n",
    "\\begin{align*}\n",
    "U(H_c, \\gamma) = \\exp(-i\\gamma H_c) = \\prod^m_{\\alpha = 1} e^{-i\\gamma C_{\\alpha}}\\\\\n",
    "\\text{          where } \\gamma \\in [0, 2\\pi]\n",
    "\\end{align*}\n",
    "$$\n",
    "\n",
    "Moreover, we define our mixing Hamiltonian $H_m$ as\n",
    "\n",
    "$$\n",
    "H_m = \\sum_{i = 0}^n \\sigma_i^x\n",
    "$$\n",
    "\n",
    "Where $\\sigma_i^x$ is the Pauli-$X$ gate acting on the $i$th qubit. And we define the $\\beta$ dependent $U(H_m, \\beta)$ unitary operator as it follows.\n",
    "\n",
    "$$\n",
    "\\begin{align*}\n",
    "U(H_m, \\beta) = \\exp(-i\\beta H_m) = \\prod^n_{\\alpha = 1} e^{-i\\beta X_{\\alpha}}\\\\\n",
    "\\text{          where } \\beta \\in [0, \\pi]\n",
    "\\end{align*}\n",
    "$$\n",
    "\n",
    "The algorithm will search for the optimal solution approximation in function of an factor $p \\geq 1$, that improves the quality of our circuit. Therefore, let $|k\\rangle$ be our initial uniform superpostion state on n qubits given by, \n",
    "\n",
    "$$\n",
    "\\begin{align*}\n",
    "    |k\\rangle &= H^{\\otimes n}\\underbrace{|000 \\dots 0\\rangle}_\\text{n qubits}\\\\ \n",
    "              &= \\frac{1}{\\sqrt{2^n}}\\sum_{x \\in \\{0, 1\\}^n}|x\\rangle\n",
    "\\end{align*}\n",
    "$$\n",
    "\n",
    "Then, using $2p$ angles parameters $\\overrightarrow{\\gamma}$, $\\overrightarrow{\\beta}$ we will define our QAOA MaxCut as a circuit that prepares the trial state $|\\Psi_p(\\overrightarrow{\\gamma}, \\overrightarrow{\\beta})\\rangle$, which is given by the following equation\n",
    "\n",
    "$$\n",
    "\\begin{align*}\n",
    "|\\Psi_p(\\overrightarrow{\\gamma}, \\overrightarrow{\\beta})\\rangle &= e^{-i\\beta_p X_{\\alpha}}e^{-i\\gamma_pC_\\alpha}e^{-i\\beta_{p-1} X_{\\alpha}}e^{-i\\gamma_{p-1}C_\\alpha} \\dots e^{-i\\beta_1 X_{\\alpha}}e^{-i\\gamma_{1}C_\\alpha}|k\\rangle\\\\\n",
    "                              &=  U_{m_{p}} U_{c_{p}} U_{m_{p-1}} U_{c_{p-1}} \\dots U_{m_{1}} U_{c_{1}}|k\\rangle\n",
    "\\end{align*}\n",
    "$$\n",
    "\n",
    "\n",
    "Which can be seen as sequence of $p$ layers of unitary gates $U_m U_c$, these can be implemented as sequence of $R\\sigma^z(\\gamma)$, $R\\sigma^x(\\beta)$ and $CNOT$ gates as implemented in qiskit below"
   ]
  },
  {
   "cell_type": "code",
   "execution_count": 2,
   "metadata": {},
   "outputs": [
    {
     "data": {
      "image/png": "[encoded data removed]",
      "text/plain": [
       "<Figure size 321.232x144.48 with 1 Axes>"
      ]
     },
     "execution_count": 2,
     "metadata": {},
     "output_type": "execute_result"
    }
   ],
   "source": [
    "#Defines a circuit with 2 quantum registers\n",
    "Uc = QuantumCircuit(2)\n",
    "\n",
    "#Angle gamma\n",
    "gamma = 1.0\n",
    "\n",
    "#Edge (i, j)\n",
    "i = 0; j = 1\n",
    "\n",
    "#Unitary cost function\n",
    "Uc.cx(i, j)\n",
    "Uc.rz(gamma, j)\n",
    "Uc.cx(i, j)\n",
    "\n",
    "Uc.draw('mpl')"
   ]
  },
  {
   "cell_type": "code",
   "execution_count": 3,
   "metadata": {},
   "outputs": [
    {
     "data": {
      "image/png": "[encoded data removed]",
      "text/plain": [
       "<Figure size 187.706x84.28 with 1 Axes>"
      ]
     },
     "execution_count": 3,
     "metadata": {},
     "output_type": "execute_result"
    }
   ],
   "source": [
    "#Defines a circuit with 1 quantum register\n",
    "Um = QuantumCircuit(1)\n",
    "\n",
    "#Angle beta\n",
    "beta = 1.0\n",
    "\n",
    "#Vertice v\n",
    "v = 0\n",
    "\n",
    "#Unitary mixing function\n",
    "Um.rx(beta, v)\n",
    "\n",
    "Um.draw('mpl')"
   ]
  },
  {
   "cell_type": "markdown",
   "metadata": {},
   "source": [
    "And our goal with this is to get a high expectation value from \n",
    "\n",
    "$$E_p(\\overrightarrow{\\gamma}, \\overrightarrow{\\beta}) = \\langle \\Psi_p(\\overrightarrow{\\gamma}, \\overrightarrow{\\beta})|H_c|\\Psi_p(\\overrightarrow{\\gamma}, \\overrightarrow{\\beta})\\rangle$$\n",
    "\n",
    "Where we are interested in the max argument $M_p$, which is given by\n",
    "\n",
    "$$\n",
    "    \\DeclareMathOperator*{\\argmax}{arg max} % thin space, limits underneath in displays\n",
    "    M_p = \\argmax\\limits_{\\gamma, \\beta} E_p(\\overrightarrow{\\gamma}, \\overrightarrow{\\beta})\n",
    "$$\n",
    "\n",
    "And we have that\n",
    "\n",
    "$$\n",
    "    \\lim\\limits_{p \\rightarrow \\infty} M_p = \\max\\limits_{x} C(x)\n",
    "$$\n",
    "\n",
    "Now finally, we have the material that were used to design the algorithm, which works from the following steps\n",
    "\n",
    "$$\n",
    "\\begin{align*}\n",
    "1.&\\text{ Pick a } p \\text{ and start with a set of angles that somehow make } E_p(\\overrightarrow{\\gamma}, \\overrightarrow{\\beta}) \\text{ as large as possible}\\\\\n",
    "2.&\\text{ Use the Quantum Computer to get the state } |\\Psi_p(\\overrightarrow{\\gamma}, \\overrightarrow{\\beta})\\rangle.\\\\\n",
    "3.&\\text{ Measure in the computational basis to get a string } x \\text{ and evaluate } C(x).\\\\\n",
    "4.&\\text{ Repeat with the same angles.}\\\\\n",
    "5.&\\text{ Enough repetitions will prouce a string } x \\text{ with } C(x) \\text{ very near\n",
    "or greater than } E_p(\\overrightarrow{\\gamma}, \\overrightarrow{\\beta}).\\\\\n",
    "\\end{align*}\n",
    "$$\n",
    "\n",
    "And now the problem consists into properly choose a set of angles $(\\overrightarrow{\\gamma}, \\overrightarrow{\\beta})$. Which can be done in $O(m^2 + mn)$, by taking the angles from a grid generated by $[0, 2\\pi]^p \\text{ x } [0, \\pi]^p$, which will efficiently produce an string $x$ that when evaluated by $C(x)$ the result is close enough or larger than $M_p$."
   ]
  },
  {
   "cell_type": "markdown",
   "metadata": {},
   "source": [
    "## Implementing with PennyLane"
   ]
  },
  {
   "cell_type": "code",
   "execution_count": 4,
   "metadata": {},
   "outputs": [],
   "source": [
    "#Butterfly Graph\n",
    "n_wires = 5\n",
    "graph = [(0, 1), (0, 2), (1, 2), (2, 3), (2, 4), (3, 4)]"
   ]
  },
  {
   "cell_type": "markdown",
   "metadata": {},
   "source": [
    "<img src=\"images/butterfly_graph.png\" style=\"width:270px; height:257px\"/>"
   ]
  },
  {
   "cell_type": "code",
   "execution_count": 5,
   "metadata": {},
   "outputs": [],
   "source": [
    "#Mixing Hamiltonian\n",
    "def U_Hm(beta):\n",
    "    for wire in range(n_wires):\n",
    "        qml.RX(2 * beta, wires=wire)\n",
    "\n",
    "#Cost Hamiltonian\n",
    "def U_Hc(gamma):\n",
    "    for edge in graph:\n",
    "        wire1 = edge[0]\n",
    "        wire2 = edge[1]\n",
    "        qml.CNOT(wires=[wire1, wire2])\n",
    "        qml.RZ(gamma, wires=wire2)\n",
    "        qml.CNOT(wires=[wire1, wire2])\n",
    "\n",
    "#Computational Basis Measurement\n",
    "def measurement(wires):\n",
    "    return qml.Hermitian(np.diag(range(2 ** len(wires))), wires=wires)"
   ]
  },
  {
   "cell_type": "code",
   "execution_count": 6,
   "metadata": {},
   "outputs": [],
   "source": [
    "backend = qml.device(\"default.qubit\", wires=n_wires, analytic=True, shots=1)"
   ]
  },
  {
   "cell_type": "code",
   "execution_count": 7,
   "metadata": {},
   "outputs": [
    {
     "name": "stdout",
     "output_type": "stream",
     "text": [
      "\n",
      "p=1\n",
      "Objective after step     5:  3.7729198\n",
      "Objective after step    10:  3.8944360\n",
      "Objective after step    15:  3.9259910\n",
      "Objective after step    20:  3.9285568\n",
      "Objective after step    25:  3.9287493\n",
      "Objective after step    30:  3.9287634\n",
      "Objective after step    35:  3.9287644\n",
      "Objective after step    40:  3.9287645\n",
      "Objective after step    45:  3.9287645\n",
      "Objective after step    50:  3.9287645\n",
      "Optimized (gamma, beta) vectors:\n",
      "[[-0.58782834]\n",
      " [-1.24984905]]\n",
      "Most frequently sampled bit string is: 00101\n",
      "\n",
      "p=2\n",
      "Objective after step     5:  2.9376621\n",
      "Objective after step    10:  3.2673163\n",
      "Objective after step    15:  3.8065555\n",
      "Objective after step    20:  3.9380685\n",
      "Objective after step    25:  3.9647875\n",
      "Objective after step    30:  3.9715537\n",
      "Objective after step    35:  3.9735012\n",
      "Objective after step    40:  3.9743357\n",
      "Objective after step    45:  3.9748756\n",
      "Objective after step    50:  3.9753370\n",
      "Optimized (gamma, beta) vectors:\n",
      "[[-0.56459731  0.15304817]\n",
      " [-0.525622   -0.66243514]]\n",
      "Most frequently sampled bit string is: 11001\n"
     ]
    }
   ],
   "source": [
    "pauli_z = [[1, 0],\n",
    "           [0, -1]]\n",
    "pauli_z_2 = np.kron(pauli_z, pauli_z)\n",
    "\n",
    "@qml.qnode(backend)\n",
    "def circuit(gamma, beta, edge=None, n_layers=1):\n",
    "    \n",
    "    for wire in range(n_wires):\n",
    "        qml.Hadamard(wires=wire)\n",
    "    \n",
    "    for i in range(n_layers):\n",
    "        U_Hc(gamma[i])\n",
    "        U_Hm(beta[i])\n",
    "        \n",
    "    if edge is None:\n",
    "        return qml.sample(measurement(range(n_wires)))\n",
    "    \n",
    "    return qml.expval(qml.Hermitian(pauli_z_2, wires=edge))\n",
    "\n",
    "def maxcutQAOA(n_layers):\n",
    "    print(\"\\np={:d}\".format(n_layers))\n",
    "    \n",
    "    initial_parameters = 0.01 * np.random.rand(2, 2)\n",
    "    \n",
    "    def objectiveFunction(angle):\n",
    "        gamma = angle[0]\n",
    "        beta = angle[1]\n",
    "        obj = 0\n",
    "        \n",
    "        for edge in graph:\n",
    "            obj -= 0.5 * (1 - circuit(gamma, beta, edge=edge, n_layers=n_layers))\n",
    "        \n",
    "        return obj\n",
    "    \n",
    "    opt = qml.AdagradOptimizer(stepsize=0.5)\n",
    "\n",
    "    params = initial_parameters\n",
    "    steps = 50\n",
    "    \n",
    "    for i in range(steps):\n",
    "        params = opt.step(objectiveFunction, params)\n",
    "        if (i + 1) % 5 == 0:\n",
    "            print(\"Objective after step {:5d}: {: .7f}\".format(i + 1, -objectiveFunction(params)))\n",
    "\n",
    "    bit_strings = []\n",
    "    n_samples = 100\n",
    "    for i in range(0, n_samples):\n",
    "        bit_strings.append(int(circuit(params[0], params[1], edge=None, n_layers=n_layers)))\n",
    "\n",
    "    counts = np.bincount(np.array(bit_strings))\n",
    "    most_freq_bit_string = np.argmax(counts)\n",
    "    print(\"Optimized (gamma, beta) vectors:\\n{}\".format(params[:, :n_layers]))\n",
    "    print(\"Most frequently sampled bit string is: {:05b}\".format(most_freq_bit_string))\n",
    "\n",
    "    return params, bit_strings\n",
    "\n",
    "optimized_angles_1, bitstrings1 = maxcutQAOA(1)\n",
    "optimized_angles_2, bitstrings2 = maxcutQAOA(2)"
   ]
  },
  {
   "cell_type": "markdown",
   "metadata": {},
   "source": [
    "## Implementing with Qiskit"
   ]
  },
  {
   "cell_type": "code",
   "execution_count": 8,
   "metadata": {},
   "outputs": [],
   "source": [
    "def H_c(n, i, j, gamma):\n",
    "    U = QuantumCircuit(n)\n",
    "    \n",
    "    U.cx(i, j)\n",
    "    U.rz(gamma, j)\n",
    "    U.cx(i, j)\n",
    "    \n",
    "    U = U.to_gate()\n",
    "    U.name = ' Cost '\n",
    "    \n",
    "    return U\n",
    "\n",
    "def H_m(n, beta):\n",
    "    U = QuantumCircuit(n)\n",
    "    \n",
    "    for i in range(0, n):\n",
    "        U.rx(2*beta, i)\n",
    "    \n",
    "    U = U.to_gate()\n",
    "    U.name = ' Mixing '\n",
    "    \n",
    "    return U"
   ]
  },
  {
   "cell_type": "code",
   "execution_count": 9,
   "metadata": {},
   "outputs": [
    {
     "data": {
      "image/png": "[encoded data removed]",
      "text/plain": [
       "<Figure size 1525.38x385.28 with 1 Axes>"
      ]
     },
     "execution_count": 9,
     "metadata": {},
     "output_type": "execute_result"
    }
   ],
   "source": [
    "QAOA = QuantumCircuit(n_wires, n_wires)\n",
    "\n",
    "gamma = optimized_angles_1[0][0]\n",
    "beta = optimized_angles_1[1][0]\n",
    "\n",
    "QAOA.h(range(n_wires))\n",
    "\n",
    "QAOA.barrier()\n",
    "\n",
    "for edge in graph:\n",
    "    edge_i = edge[0]\n",
    "    edge_j = edge[1]\n",
    "    \n",
    "    U_c = H_c(n_wires, edge_i, edge_j, gamma) \n",
    "\n",
    "    QAOA.append(U_c, range(n_wires))\n",
    "\n",
    "QAOA.barrier()\n",
    "    \n",
    "U_m = H_m(n_wires, beta)\n",
    "QAOA.append(U_m, range(n_wires))\n",
    "\n",
    "QAOA.barrier()\n",
    "\n",
    "QAOA.measure(range(n_wires), range(n_wires))\n",
    "\n",
    "QAOA.draw('mpl')"
   ]
  },
  {
   "cell_type": "code",
   "execution_count": 10,
   "metadata": {},
   "outputs": [
    {
     "data": {
      "image/png": "[encoded data removed]",
      "text/plain": [
       "<Figure size 504x360 with 1 Axes>"
      ]
     },
     "execution_count": 10,
     "metadata": {},
     "output_type": "execute_result"
    }
   ],
   "source": [
    "backend = Aer.get_backend('qasm_simulator')\n",
    "result = execute(QAOA, backend).result().get_counts()\n",
    "plot_histogram(result)"
   ]
  },
  {
   "cell_type": "markdown",
   "metadata": {},
   "source": [
    "### References\n",
    "\n",
    "[[1]](https://arxiv.org/pdf/1411.4028.pdf) A Quantum Approximate Optimization Algorithm, Farhi, Goldstone, and Gutmann (2014)\n",
    "\n",
    "[[2]](https://pennylane.ai/qml/demos/tutorial_qaoa_maxcut.html) PennyLane QAOA for MaxCut\n",
    "\n",
    "[[3]](https://qiskit.org/textbook/ch-applications/qaoa.html) Solving combinatorial optimization problems using QAOA"
   ]
  }
 ],
 "metadata": {
  "kernelspec": {
   "display_name": "Python 3",
   "language": "python",
   "name": "python3"
  },
  "language_info": {
   "codemirror_mode": {
    "name": "ipython",
    "version": 3
   },
   "file_extension": ".py",
   "mimetype": "text/x-python",
   "name": "python",
   "nbconvert_exporter": "python",
   "pygments_lexer": "ipython3",
   "version": "3.8.2"
  }
 },
 "nbformat": 4,
 "nbformat_minor": 4
}